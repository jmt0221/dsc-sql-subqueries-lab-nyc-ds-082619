{
 "cells": [
  {
   "cell_type": "markdown",
   "metadata": {},
   "source": [
    "# SQL Subqueries - Lab\n",
    "\n",
    "## Introduction\n",
    "\n",
    "Now that you've seen how subqueries work, it's time to get some practice writing them! Not all of the queries will require subqueries, but all will be a bit more complex and require some thought and review about aggregates, grouping, ordering, filtering, joins and subqueries. Good luck!  \n",
    "\n",
    "## Objectives\n",
    "\n",
    "You will be able to:\n",
    "\n",
    "* Write complex queries\n",
    "* Write subqueries to decompose complex queries\n",
    "\n",
    "## CRM Database Schema\n",
    "\n",
    "Once again, here's the schema for the CRM database you'll continue to practice with.\n",
    "\n",
    "<img src=\"images/Database-Schema.png\" width=\"600\">\n",
    "\n",
    "## Connect to the Database\n",
    "\n",
    "As usual, start by importing the necessary packages and connecting to the database **data.sqlite**."
   ]
  },
  {
   "cell_type": "code",
   "execution_count": 3,
   "metadata": {},
   "outputs": [],
   "source": [
    "#Your code here; import the necessary packages\n",
    "import sqlite3"
   ]
  },
  {
   "cell_type": "code",
   "execution_count": 4,
   "metadata": {},
   "outputs": [],
   "source": [
    "#Your code here; create the connection and cursor\n",
    "conn = sqlite3.connect('data.sqlite')\n",
    "curr = conn.cursor()"
   ]
  },
  {
   "cell_type": "markdown",
   "metadata": {},
   "source": [
    "## Write an Equivalent Query using a Subquery\n",
    "\n",
    "```SQL\n",
    "select customerNumber,\n",
    "       contactLastName,\n",
    "       contactFirstName\n",
    "       from customers\n",
    "       join orders \n",
    "       using(customerNumber)\n",
    "       where orderDate = '2003-01-31';\n",
    "```"
   ]
  },
  {
   "cell_type": "code",
   "execution_count": 3,
   "metadata": {},
   "outputs": [
    {
     "data": {
      "text/plain": [
       "[('103', 'Schmitt', 'Carine '),\n",
       " ('112', 'King', 'Jean'),\n",
       " ('114', 'Ferguson', 'Peter'),\n",
       " ('119', 'Labrune', 'Janine '),\n",
       " ('121', 'Bergulfsen', 'Jonas '),\n",
       " ('124', 'Nelson', 'Susan'),\n",
       " ('125', 'Piestrzeniewicz', 'Zbyszek '),\n",
       " ('128', 'Keitel', 'Roland'),\n",
       " ('129', 'Murphy', 'Julie'),\n",
       " ('131', 'Lee', 'Kwai'),\n",
       " ('141', 'Freyre', 'Diego '),\n",
       " ('144', 'Berglund', 'Christina '),\n",
       " ('145', 'Petersen', 'Jytte '),\n",
       " ('146', 'Saveley', 'Mary '),\n",
       " ('148', 'Natividad', 'Eric'),\n",
       " ('151', 'Young', 'Jeff'),\n",
       " ('157', 'Leong', 'Kelvin'),\n",
       " ('161', 'Hashimoto', 'Juri'),\n",
       " ('166', 'Victorino', 'Wendy'),\n",
       " ('167', 'Oeztan', 'Veysel'),\n",
       " ('168', 'Franco', 'Keith'),\n",
       " ('169', 'de Castro', 'Isabel '),\n",
       " ('171', 'Rancé', 'Martine '),\n",
       " ('172', 'Bertrand', 'Marie'),\n",
       " ('173', 'Tseng', 'Jerry'),\n",
       " ('175', 'King', 'Julie'),\n",
       " ('177', 'Kentary', 'Mory'),\n",
       " ('181', 'Frick', 'Michael'),\n",
       " ('186', 'Karttunen', 'Matti'),\n",
       " ('187', 'Ashworth', 'Rachel'),\n",
       " ('189', 'Cassidy', 'Dean'),\n",
       " ('198', 'Taylor', 'Leslie'),\n",
       " ('201', 'Devon', 'Elizabeth'),\n",
       " ('202', 'Tamuri', 'Yoshi '),\n",
       " ('204', 'Barajas', 'Miguel'),\n",
       " ('205', 'Young', 'Julie'),\n",
       " ('206', 'Walker', 'Brydey'),\n",
       " ('209', 'Citeaux', 'Frédérique '),\n",
       " ('211', 'Gao', 'Mike'),\n",
       " ('216', 'Saavedra', 'Eduardo '),\n",
       " ('219', 'Young', 'Mary'),\n",
       " ('223', 'Kloss', 'Horst '),\n",
       " ('227', 'Ibsen', 'Palle'),\n",
       " ('233', 'Fresnière', 'Jean '),\n",
       " ('237', 'Camino', 'Alejandra '),\n",
       " ('239', 'Thompson', 'Valarie'),\n",
       " ('240', 'Bennett', 'Helen '),\n",
       " ('242', 'Roulet', 'Annette '),\n",
       " ('247', 'Messner', 'Renate '),\n",
       " ('249', 'Accorti', 'Paolo '),\n",
       " ('250', 'Da Silva', 'Daniel'),\n",
       " ('256', 'Tonini', 'Daniel '),\n",
       " ('259', 'Pfalzheim', 'Henriette '),\n",
       " ('260', 'Lincoln', 'Elizabeth '),\n",
       " ('273', 'Franken', 'Peter '),\n",
       " ('276', \"O'Hara\", 'Anna'),\n",
       " ('278', 'Rovelli', 'Giovanni '),\n",
       " ('282', 'Huxley', 'Adrian'),\n",
       " ('286', 'Hernandez', 'Marta'),\n",
       " ('293', 'Harrison', 'Ed'),\n",
       " ('298', 'Holz', 'Mihael'),\n",
       " ('299', 'Klaeboe', 'Jan'),\n",
       " ('303', 'Schuyler', 'Bradley'),\n",
       " ('307', 'Andersen', 'Mel'),\n",
       " ('311', 'Koskitalo', 'Pirkko'),\n",
       " ('314', 'Dewey', 'Catherine '),\n",
       " ('319', 'Frick', 'Steve'),\n",
       " ('320', 'Huang', 'Wing'),\n",
       " ('321', 'Brown', 'Julie'),\n",
       " ('323', 'Graham', 'Mike'),\n",
       " ('324', 'Brown', 'Ann '),\n",
       " ('328', 'Brown', 'William'),\n",
       " ('333', 'Calaghan', 'Ben'),\n",
       " ('334', 'Suominen', 'Kalle'),\n",
       " ('335', 'Cramer', 'Philip '),\n",
       " ('339', 'Cervantes', 'Francisca'),\n",
       " ('344', 'Fernandez', 'Jesus'),\n",
       " ('347', 'Chandler', 'Brian'),\n",
       " ('348', 'McKenna', 'Patricia '),\n",
       " ('350', 'Lebihan', 'Laurence '),\n",
       " ('353', 'Henriot', 'Paul '),\n",
       " ('356', 'Kuger', 'Armand'),\n",
       " ('357', 'MacKinlay', 'Wales'),\n",
       " ('361', 'Josephs', 'Karin'),\n",
       " ('362', 'Yoshido', 'Juri'),\n",
       " ('363', 'Young', 'Dorothy'),\n",
       " ('369', 'Rodriguez', 'Lino '),\n",
       " ('376', 'Urs', 'Braun'),\n",
       " ('379', 'Nelson', 'Allen'),\n",
       " ('381', 'Cartrain', 'Pascale '),\n",
       " ('382', 'Pipps', 'Georg '),\n",
       " ('385', 'Cruz', 'Arnold'),\n",
       " ('386', 'Moroni', 'Maurizio '),\n",
       " ('398', 'Shimamura', 'Akiko'),\n",
       " ('406', 'Perrier', 'Dominique'),\n",
       " ('409', 'Müller', 'Rita '),\n",
       " ('412', 'McRoy', 'Sarah'),\n",
       " ('415', 'Donnermeyer', 'Michael'),\n",
       " ('424', 'Hernandez', 'Maria'),\n",
       " ('443', 'Feuer', 'Alexander '),\n",
       " ('447', 'Lewis', 'Dan'),\n",
       " ('448', 'Larsson', 'Martha'),\n",
       " ('450', 'Frick', 'Sue'),\n",
       " ('452', 'Mendel', 'Roland '),\n",
       " ('455', 'Murphy', 'Leslie'),\n",
       " ('456', 'Choi', 'Yu'),\n",
       " ('458', 'Sommer', 'Martín '),\n",
       " ('459', 'Ottlieb', 'Sven '),\n",
       " ('462', 'Benitez', 'Violeta'),\n",
       " ('465', 'Anton', 'Carmen'),\n",
       " ('471', 'Clenahan', 'Sean'),\n",
       " ('473', 'Ricotti', 'Franco'),\n",
       " ('475', 'Thompson', 'Steve'),\n",
       " ('477', 'Moos', 'Hanna '),\n",
       " ('480', 'Semenov', 'Alexander '),\n",
       " ('481', 'Altagar,G M', 'Raanan'),\n",
       " ('484', 'Roel', 'José Pedro '),\n",
       " ('486', 'Salazar', 'Rosa'),\n",
       " ('487', 'Taylor', 'Sue'),\n",
       " ('489', 'Smith', 'Thomas '),\n",
       " ('495', 'Franco', 'Valarie'),\n",
       " ('496', 'Snowden', 'Tony')]"
      ]
     },
     "execution_count": 3,
     "metadata": {},
     "output_type": "execute_result"
    }
   ],
   "source": [
    "#Your code here; use a subquery. No join will be necessary.\n",
    "curr.execute('''SELECT customernumber, contactlastname, contactfirstname FROM customers WHERE\n",
    "                (SELECT orderdate FROM orders WHERE orderdate = '2003-01-31');''')\n",
    "curr.fetchall()"
   ]
  },
  {
   "cell_type": "markdown",
   "metadata": {},
   "source": [
    "## Select the Total Number of Orders for Each Product Name\n",
    "\n",
    "Sort the results by the total number of items sold for that product."
   ]
  },
  {
   "cell_type": "code",
   "execution_count": 12,
   "metadata": {},
   "outputs": [
    {
     "ename": "OperationalError",
     "evalue": "no such column: o.quanitityOrdered",
     "output_type": "error",
     "traceback": [
      "\u001b[0;31m\u001b[0m",
      "\u001b[0;31mOperationalError\u001b[0mTraceback (most recent call last)",
      "\u001b[0;32m<ipython-input-12-5a62e862044a>\u001b[0m in \u001b[0;36m<module>\u001b[0;34m()\u001b[0m\n\u001b[1;32m      3\u001b[0m                 \u001b[0mJOIN\u001b[0m \u001b[0morderdetails\u001b[0m \u001b[0mo\u001b[0m\u001b[0;34m\u001b[0m\u001b[0m\n\u001b[1;32m      4\u001b[0m                 \u001b[0mUSING\u001b[0m\u001b[0;34m(\u001b[0m\u001b[0mproductcode\u001b[0m\u001b[0;34m)\u001b[0m\u001b[0;34m\u001b[0m\u001b[0m\n\u001b[0;32m----> 5\u001b[0;31m                 GROUP BY productname''').fetchall()\n\u001b[0m\u001b[1;32m      6\u001b[0m \u001b[0;34m\u001b[0m\u001b[0m\n",
      "\u001b[0;31mOperationalError\u001b[0m: no such column: o.quanitityOrdered"
     ]
    }
   ],
   "source": [
    "#Your code here\n",
    "curr.execute('''SELECT productname, SUM(o.quanitityOrdered) FROM products\n",
    "                JOIN orderdetails o\n",
    "                USING(productcode)\n",
    "                GROUP BY productname''').fetchall()\n",
    "\n",
    "\n"
   ]
  },
  {
   "cell_type": "markdown",
   "metadata": {},
   "source": [
    "## Select the Product Name and the  Total Number of People Who Have Ordered Each Product\n",
    "\n",
    "Sort the results in descending order."
   ]
  },
  {
   "cell_type": "markdown",
   "metadata": {},
   "source": [
    "### A quick note on the SQL  `SELECT DISTINCT` statement:"
   ]
  },
  {
   "cell_type": "markdown",
   "metadata": {},
   "source": [
    "The `SELECT DISTINCT` statement is used to return only distinct values in the specified column. In other words, it removes the duplicate values in the column from the result set.\n",
    "\n",
    "Inside a table, a column often contains many duplicate values; and sometimes you only want to list the unique values. If you apply the `DISTINCT` clause to a column that has `NULL`, the `DISTINCT` clause will keep only one NULL and eliminates the other. In other words, the DISTINCT clause treats all `NULL` “values” as the same value."
   ]
  },
  {
   "cell_type": "code",
   "execution_count": 9,
   "metadata": {},
   "outputs": [],
   "source": [
    "#Your code here:\n",
    "# Hint: because one of the tables we'll be joining has duplicate customer numbers, you should use DISTINCT"
   ]
  },
  {
   "cell_type": "markdown",
   "metadata": {},
   "source": [
    "## Select the Employee Number, First Name, Last Name, City (of the office), and Office Code of the Employees Who Sold Products Which Have Been Ordered by Less Then 20 people.\n",
    "\n",
    "This problem is a bit tougher. To start, think about how you might break the problem up. Be sure that your results only list each employee once."
   ]
  },
  {
   "cell_type": "code",
   "execution_count": 11,
   "metadata": {},
   "outputs": [],
   "source": [
    "#Your code here"
   ]
  },
  {
   "cell_type": "markdown",
   "metadata": {},
   "source": [
    "## Select the Employee Number, First Name, Last Name, and Number of Customers for Employees Who's Customers Have an Average Credit Limit of Over 15K"
   ]
  },
  {
   "cell_type": "code",
   "execution_count": 13,
   "metadata": {},
   "outputs": [],
   "source": [
    "#Your code here"
   ]
  },
  {
   "cell_type": "markdown",
   "metadata": {},
   "source": [
    "## Summary\n",
    "\n",
    "In this lesson, you got to practice some more complex SQL queries, some of which required subqueries. There's still plenty more SQL to be had though; hope you've been enjoying some of these puzzles!"
   ]
  }
 ],
 "metadata": {
  "kernelspec": {
   "display_name": "Python 3",
   "language": "python",
   "name": "python3"
  },
  "language_info": {
   "codemirror_mode": {
    "name": "ipython",
    "version": 3
   },
   "file_extension": ".py",
   "mimetype": "text/x-python",
   "name": "python",
   "nbconvert_exporter": "python",
   "pygments_lexer": "ipython3",
   "version": "3.6.6"
  },
  "toc": {
   "base_numbering": 1,
   "nav_menu": {},
   "number_sections": true,
   "sideBar": true,
   "skip_h1_title": false,
   "title_cell": "Table of Contents",
   "title_sidebar": "Contents",
   "toc_cell": false,
   "toc_position": {},
   "toc_section_display": true,
   "toc_window_display": false
  }
 },
 "nbformat": 4,
 "nbformat_minor": 2
}
