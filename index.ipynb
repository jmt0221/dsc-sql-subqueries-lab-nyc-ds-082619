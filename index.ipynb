{
 "cells": [
  {
   "cell_type": "markdown",
   "metadata": {},
   "source": [
    "# SQL Subqueries - Lab\n",
    "\n",
    "## Introduction\n",
    "\n",
    "Now that you've seen how subqueries work, it's time to get some practice writing them! Not all of the queries will require subqueries, but all will be a bit more complex and require some thought and review about aggregates, grouping, ordering, filtering, joins and subqueries. Good luck!  \n",
    "\n",
    "## Objectives\n",
    "\n",
    "You will be able to:\n",
    "\n",
    "* Write complex queries\n",
    "* Write subqueries to decompose complex queries\n",
    "\n",
    "## CRM Database Schema\n",
    "\n",
    "Once again, here's the schema for the CRM database you'll continue to practice with.\n",
    "\n",
    "<img src=\"images/Database-Schema.png\" width=\"600\">\n",
    "\n",
    "## Connect to the Database\n",
    "\n",
    "As usual, start by importing the necessary packages and connecting to the database **data.sqlite**."
   ]
  },
  {
   "cell_type": "code",
   "execution_count": 3,
   "metadata": {},
   "outputs": [],
   "source": [
    "#Your code here; import the necessary packages\n",
    "import sqlite3"
   ]
  },
  {
   "cell_type": "code",
   "execution_count": 4,
   "metadata": {},
   "outputs": [],
   "source": [
    "#Your code here; create the connection and cursor\n",
    "conn = sqlite3.connect('data.sqlite')\n",
    "curr = conn.cursor()"
   ]
  },
  {
   "cell_type": "markdown",
   "metadata": {},
   "source": [
    "## Write an Equivalent Query using a Subquery\n",
    "\n",
    "```SQL\n",
    "select customerNumber,\n",
    "       contactLastName,\n",
    "       contactFirstName\n",
    "       from customers\n",
    "       join orders \n",
    "       using(customerNumber)\n",
    "       where orderDate = '2003-01-31';\n",
    "```"
   ]
  },
  {
   "cell_type": "code",
   "execution_count": 3,
   "metadata": {},
   "outputs": [
    {
     "data": {
      "text/plain": [
       "[('103', 'Schmitt', 'Carine '),\n",
       " ('112', 'King', 'Jean'),\n",
       " ('114', 'Ferguson', 'Peter'),\n",
       " ('119', 'Labrune', 'Janine '),\n",
       " ('121', 'Bergulfsen', 'Jonas '),\n",
       " ('124', 'Nelson', 'Susan'),\n",
       " ('125', 'Piestrzeniewicz', 'Zbyszek '),\n",
       " ('128', 'Keitel', 'Roland'),\n",
       " ('129', 'Murphy', 'Julie'),\n",
       " ('131', 'Lee', 'Kwai'),\n",
       " ('141', 'Freyre', 'Diego '),\n",
       " ('144', 'Berglund', 'Christina '),\n",
       " ('145', 'Petersen', 'Jytte '),\n",
       " ('146', 'Saveley', 'Mary '),\n",
       " ('148', 'Natividad', 'Eric'),\n",
       " ('151', 'Young', 'Jeff'),\n",
       " ('157', 'Leong', 'Kelvin'),\n",
       " ('161', 'Hashimoto', 'Juri'),\n",
       " ('166', 'Victorino', 'Wendy'),\n",
       " ('167', 'Oeztan', 'Veysel'),\n",
       " ('168', 'Franco', 'Keith'),\n",
       " ('169', 'de Castro', 'Isabel '),\n",
       " ('171', 'Rancé', 'Martine '),\n",
       " ('172', 'Bertrand', 'Marie'),\n",
       " ('173', 'Tseng', 'Jerry'),\n",
       " ('175', 'King', 'Julie'),\n",
       " ('177', 'Kentary', 'Mory'),\n",
       " ('181', 'Frick', 'Michael'),\n",
       " ('186', 'Karttunen', 'Matti'),\n",
       " ('187', 'Ashworth', 'Rachel'),\n",
       " ('189', 'Cassidy', 'Dean'),\n",
       " ('198', 'Taylor', 'Leslie'),\n",
       " ('201', 'Devon', 'Elizabeth'),\n",
       " ('202', 'Tamuri', 'Yoshi '),\n",
       " ('204', 'Barajas', 'Miguel'),\n",
       " ('205', 'Young', 'Julie'),\n",
       " ('206', 'Walker', 'Brydey'),\n",
       " ('209', 'Citeaux', 'Frédérique '),\n",
       " ('211', 'Gao', 'Mike'),\n",
       " ('216', 'Saavedra', 'Eduardo '),\n",
       " ('219', 'Young', 'Mary'),\n",
       " ('223', 'Kloss', 'Horst '),\n",
       " ('227', 'Ibsen', 'Palle'),\n",
       " ('233', 'Fresnière', 'Jean '),\n",
       " ('237', 'Camino', 'Alejandra '),\n",
       " ('239', 'Thompson', 'Valarie'),\n",
       " ('240', 'Bennett', 'Helen '),\n",
       " ('242', 'Roulet', 'Annette '),\n",
       " ('247', 'Messner', 'Renate '),\n",
       " ('249', 'Accorti', 'Paolo '),\n",
       " ('250', 'Da Silva', 'Daniel'),\n",
       " ('256', 'Tonini', 'Daniel '),\n",
       " ('259', 'Pfalzheim', 'Henriette '),\n",
       " ('260', 'Lincoln', 'Elizabeth '),\n",
       " ('273', 'Franken', 'Peter '),\n",
       " ('276', \"O'Hara\", 'Anna'),\n",
       " ('278', 'Rovelli', 'Giovanni '),\n",
       " ('282', 'Huxley', 'Adrian'),\n",
       " ('286', 'Hernandez', 'Marta'),\n",
       " ('293', 'Harrison', 'Ed'),\n",
       " ('298', 'Holz', 'Mihael'),\n",
       " ('299', 'Klaeboe', 'Jan'),\n",
       " ('303', 'Schuyler', 'Bradley'),\n",
       " ('307', 'Andersen', 'Mel'),\n",
       " ('311', 'Koskitalo', 'Pirkko'),\n",
       " ('314', 'Dewey', 'Catherine '),\n",
       " ('319', 'Frick', 'Steve'),\n",
       " ('320', 'Huang', 'Wing'),\n",
       " ('321', 'Brown', 'Julie'),\n",
       " ('323', 'Graham', 'Mike'),\n",
       " ('324', 'Brown', 'Ann '),\n",
       " ('328', 'Brown', 'William'),\n",
       " ('333', 'Calaghan', 'Ben'),\n",
       " ('334', 'Suominen', 'Kalle'),\n",
       " ('335', 'Cramer', 'Philip '),\n",
       " ('339', 'Cervantes', 'Francisca'),\n",
       " ('344', 'Fernandez', 'Jesus'),\n",
       " ('347', 'Chandler', 'Brian'),\n",
       " ('348', 'McKenna', 'Patricia '),\n",
       " ('350', 'Lebihan', 'Laurence '),\n",
       " ('353', 'Henriot', 'Paul '),\n",
       " ('356', 'Kuger', 'Armand'),\n",
       " ('357', 'MacKinlay', 'Wales'),\n",
       " ('361', 'Josephs', 'Karin'),\n",
       " ('362', 'Yoshido', 'Juri'),\n",
       " ('363', 'Young', 'Dorothy'),\n",
       " ('369', 'Rodriguez', 'Lino '),\n",
       " ('376', 'Urs', 'Braun'),\n",
       " ('379', 'Nelson', 'Allen'),\n",
       " ('381', 'Cartrain', 'Pascale '),\n",
       " ('382', 'Pipps', 'Georg '),\n",
       " ('385', 'Cruz', 'Arnold'),\n",
       " ('386', 'Moroni', 'Maurizio '),\n",
       " ('398', 'Shimamura', 'Akiko'),\n",
       " ('406', 'Perrier', 'Dominique'),\n",
       " ('409', 'Müller', 'Rita '),\n",
       " ('412', 'McRoy', 'Sarah'),\n",
       " ('415', 'Donnermeyer', 'Michael'),\n",
       " ('424', 'Hernandez', 'Maria'),\n",
       " ('443', 'Feuer', 'Alexander '),\n",
       " ('447', 'Lewis', 'Dan'),\n",
       " ('448', 'Larsson', 'Martha'),\n",
       " ('450', 'Frick', 'Sue'),\n",
       " ('452', 'Mendel', 'Roland '),\n",
       " ('455', 'Murphy', 'Leslie'),\n",
       " ('456', 'Choi', 'Yu'),\n",
       " ('458', 'Sommer', 'Martín '),\n",
       " ('459', 'Ottlieb', 'Sven '),\n",
       " ('462', 'Benitez', 'Violeta'),\n",
       " ('465', 'Anton', 'Carmen'),\n",
       " ('471', 'Clenahan', 'Sean'),\n",
       " ('473', 'Ricotti', 'Franco'),\n",
       " ('475', 'Thompson', 'Steve'),\n",
       " ('477', 'Moos', 'Hanna '),\n",
       " ('480', 'Semenov', 'Alexander '),\n",
       " ('481', 'Altagar,G M', 'Raanan'),\n",
       " ('484', 'Roel', 'José Pedro '),\n",
       " ('486', 'Salazar', 'Rosa'),\n",
       " ('487', 'Taylor', 'Sue'),\n",
       " ('489', 'Smith', 'Thomas '),\n",
       " ('495', 'Franco', 'Valarie'),\n",
       " ('496', 'Snowden', 'Tony')]"
      ]
     },
     "execution_count": 3,
     "metadata": {},
     "output_type": "execute_result"
    }
   ],
   "source": [
    "#Your code here; use a subquery. No join will be necessary.\n",
    "curr.execute('''SELECT customernumber, contactlastname, contactfirstname FROM customers WHERE\n",
    "                (SELECT orderdate FROM orders WHERE orderdate = '2003-01-31');''')\n",
    "curr.fetchall()"
   ]
  },
  {
   "cell_type": "markdown",
   "metadata": {},
   "source": [
    "## Select the Total Number of Orders for Each Product Name\n",
    "\n",
    "Sort the results by the total number of items sold for that product."
   ]
  },
  {
   "cell_type": "code",
   "execution_count": 9,
   "metadata": {},
   "outputs": [
    {
     "data": {
      "text/plain": [
       "[('1992 Ferrari 360 Spider red', 53, 1808),\n",
       " ('1937 Lincoln Berline', 28, 1111),\n",
       " ('American Airlines: MD-11S', 28, 1085),\n",
       " ('1941 Chevrolet Special Deluxe Cabriolet', 28, 1076),\n",
       " ('1930 Buick Marquette Phaeton', 28, 1074),\n",
       " ('1940s Ford truck', 28, 1061),\n",
       " ('1969 Harley Davidson Ultimate Chopper', 28, 1057),\n",
       " ('1957 Chevy Pickup', 28, 1056),\n",
       " ('1964 Mercedes Tour Bus', 28, 1053),\n",
       " ('1956 Porsche 356A Coupe', 27, 1052),\n",
       " ('Corsair F4U ( Bird Cage)', 28, 1051),\n",
       " ('F/A 18 Hornet 1/72', 28, 1047),\n",
       " ('1980s Black Hawk Helicopter', 28, 1040),\n",
       " ('1913 Ford Model T Speedster', 28, 1038),\n",
       " ('1997 BMW R 1100 S', 28, 1033),\n",
       " ('1972 Alfa Romeo GTA', 28, 1030),\n",
       " ('1962 Volkswagen Microbus', 28, 1029),\n",
       " ('2002 Suzuki XREO', 28, 1028),\n",
       " ('The USS Constitution Ship', 27, 1020),\n",
       " ('2001 Ferrari Enzo', 27, 1019),\n",
       " ('1960 BSA Gold Star DBD34', 28, 1015),\n",
       " ('1997 BMW F650 ST', 28, 1014),\n",
       " ('1957 Corvette Convertible', 27, 1013),\n",
       " ('18th century schooner', 27, 1011),\n",
       " ('1900s Vintage Tri-Plane', 28, 1009),\n",
       " ('1940 Ford Pickup Truck', 28, 999),\n",
       " ('1996 Moto Guzzi 1100i', 28, 999),\n",
       " ('1926 Ford Fire Engine', 28, 998),\n",
       " ('1982 Camaro Z28', 28, 997),\n",
       " ('1939 Cadillac Limousine', 28, 995),\n",
       " ('1917 Maxwell Touring Car', 28, 992),\n",
       " ('1969 Dodge Charger', 27, 992),\n",
       " ('2002 Yamaha YZR M1', 27, 992),\n",
       " ('1912 Ford Model T Delivery Wagon', 27, 991),\n",
       " ('1904 Buick Runabout', 27, 990),\n",
       " ('1996 Peterbilt 379 Stake Bed with Outrigger', 28, 988),\n",
       " ('1998 Chrysler Plymouth Prowler', 28, 986),\n",
       " ('1934 Ford V8 Coupe', 28, 985),\n",
       " ('2003 Harley-Davidson Eagle Drag Bike', 28, 985),\n",
       " ('America West Airlines B757-200', 28, 984),\n",
       " ('1936 Chrysler Airflow', 28, 983),\n",
       " ('1958 Chevy Corvette Limited Edition', 28, 983),\n",
       " ('Diamond T620 Semi-Skirted Tanker', 28, 979),\n",
       " ('1970 Dodge Coronet', 28, 976),\n",
       " ('1969 Dodge Super Bee', 27, 974),\n",
       " ('ATA: B757-300', 28, 973),\n",
       " ('1928 British Royal Navy Airplane', 28, 972),\n",
       " ('1928 Ford Phaeton Deluxe', 28, 972),\n",
       " ('1948 Porsche 356-A Roadster', 27, 972),\n",
       " ('1958 Setra Bus', 28, 972),\n",
       " ('1971 Alpine Renault 1600s', 27, 969),\n",
       " ('1962 City of Detroit Streetcar', 27, 966),\n",
       " ('1999 Yamaha Speed Boat', 28, 966),\n",
       " ('1969 Ford Falcon', 27, 965),\n",
       " ('1969 Corvair Monza', 27, 963),\n",
       " ('1952 Alpine Renault 1300', 28, 961),\n",
       " ('1936 Mercedes-Benz 500K Special Roadster', 28, 960),\n",
       " ('Boeing X-32A JSF', 28, 960),\n",
       " ('1957 Vespa GS150', 27, 959),\n",
       " ('Pont Yacht', 27, 958),\n",
       " ('1932 Model A Ford J-Coupe', 28, 957),\n",
       " ('1938 Cadillac V-16 Presidential Limousine', 28, 955),\n",
       " ('1954 Greyhound Scenicruiser', 28, 955),\n",
       " ('The Titanic', 27, 952),\n",
       " ('1949 Jaguar XK 120', 25, 949),\n",
       " ('1948 Porsche Type 356 Roadster', 25, 948),\n",
       " ('1982 Ducati 900 Monster', 27, 947),\n",
       " ('1993 Mazda RX-7', 27, 947),\n",
       " ('1936 Harley Davidson El Knucklehead', 28, 945),\n",
       " ('1970 Triumph Spitfire', 27, 945),\n",
       " ('1961 Chevrolet Impala', 27, 941),\n",
       " ('1900s Vintage Bi-Plane', 28, 940),\n",
       " ('1939 Chevrolet Deluxe Coupe', 28, 937),\n",
       " (\"1950's Chicago Surface Lines Streetcar\", 27, 934),\n",
       " ('The Schooner Bluenose', 27, 934),\n",
       " ('1968 Ford Mustang', 27, 933),\n",
       " ('1962 LanciaA Delta 16V', 28, 932),\n",
       " ('1968 Dodge Charger', 27, 925),\n",
       " ('1940 Ford Delivery Sedan', 28, 923),\n",
       " ('1917 Grand Touring Sedan', 25, 918),\n",
       " ('Collectable Wooden Train', 27, 918),\n",
       " ('1995 Honda Civic', 27, 917),\n",
       " ('P-51-D Mustang', 28, 917),\n",
       " ('1966 Shelby Cobra 427 S/C', 25, 915),\n",
       " ('1976 Ford Gran Torino', 27, 915),\n",
       " ('1965 Aston Martin DB5', 25, 914),\n",
       " ('1982 Lamborghini Diablo', 27, 912),\n",
       " ('1980’s GM Manhattan Express', 28, 911),\n",
       " ('18th Century Vintage Horse Carriage', 28, 907),\n",
       " ('1982 Ducati 996 R', 27, 906),\n",
       " ('1970 Plymouth Hemi Cuda', 27, 900),\n",
       " ('1974 Ducati 350 Mk3 Desmo', 27, 898),\n",
       " ('The Mayflower', 27, 898),\n",
       " ('HMS Bounty', 28, 897),\n",
       " ('The Queen Mary', 27, 896),\n",
       " ('2002 Chevy Corvette', 25, 894),\n",
       " ('American Airlines: B767-300', 28, 894),\n",
       " ('1937 Horch 930V Limousine', 28, 884),\n",
       " ('1903 Ford Model A', 27, 883),\n",
       " ('1928 Mercedes-Benz SSK', 28, 880),\n",
       " ('1952 Citroen-15CV', 24, 873),\n",
       " ('1969 Chevrolet Camaro Z28', 25, 870),\n",
       " ('1992 Porsche Cayenne Turbo Silver', 27, 867),\n",
       " ('1932 Alfa Romeo 8C2300 Spider Sport', 25, 866),\n",
       " ('1999 Indy 500 Monte Carlo SS', 25, 855),\n",
       " ('1911 Ford Town Car', 25, 832),\n",
       " ('1936 Mercedes Benz 500k Roadster', 25, 824),\n",
       " ('1970 Chevy Chevelle SS 454', 25, 803),\n",
       " ('1957 Ford Thunderbird', 24, 767)]"
      ]
     },
     "execution_count": 9,
     "metadata": {},
     "output_type": "execute_result"
    }
   ],
   "source": [
    "#Your code here\n",
    "#curr.execute('''SELECT productname, SUM(quanitityordered) FROM products\n",
    "                JOIN orderdetails\n",
    "                '''\n",
    "\n",
    "\n"
   ]
  },
  {
   "cell_type": "markdown",
   "metadata": {},
   "source": [
    "## Select the Product Name and the  Total Number of People Who Have Ordered Each Product\n",
    "\n",
    "Sort the results in descending order."
   ]
  },
  {
   "cell_type": "markdown",
   "metadata": {},
   "source": [
    "### A quick note on the SQL  `SELECT DISTINCT` statement:"
   ]
  },
  {
   "cell_type": "markdown",
   "metadata": {},
   "source": [
    "The `SELECT DISTINCT` statement is used to return only distinct values in the specified column. In other words, it removes the duplicate values in the column from the result set.\n",
    "\n",
    "Inside a table, a column often contains many duplicate values; and sometimes you only want to list the unique values. If you apply the `DISTINCT` clause to a column that has `NULL`, the `DISTINCT` clause will keep only one NULL and eliminates the other. In other words, the DISTINCT clause treats all `NULL` “values” as the same value."
   ]
  },
  {
   "cell_type": "code",
   "execution_count": 9,
   "metadata": {},
   "outputs": [],
   "source": [
    "#Your code here:\n",
    "# Hint: because one of the tables we'll be joining has duplicate customer numbers, you should use DISTINCT"
   ]
  },
  {
   "cell_type": "markdown",
   "metadata": {},
   "source": [
    "## Select the Employee Number, First Name, Last Name, City (of the office), and Office Code of the Employees Who Sold Products Which Have Been Ordered by Less Then 20 people.\n",
    "\n",
    "This problem is a bit tougher. To start, think about how you might break the problem up. Be sure that your results only list each employee once."
   ]
  },
  {
   "cell_type": "code",
   "execution_count": 11,
   "metadata": {},
   "outputs": [],
   "source": [
    "#Your code here"
   ]
  },
  {
   "cell_type": "markdown",
   "metadata": {},
   "source": [
    "## Select the Employee Number, First Name, Last Name, and Number of Customers for Employees Who's Customers Have an Average Credit Limit of Over 15K"
   ]
  },
  {
   "cell_type": "code",
   "execution_count": 13,
   "metadata": {},
   "outputs": [],
   "source": [
    "#Your code here"
   ]
  },
  {
   "cell_type": "markdown",
   "metadata": {},
   "source": [
    "## Summary\n",
    "\n",
    "In this lesson, you got to practice some more complex SQL queries, some of which required subqueries. There's still plenty more SQL to be had though; hope you've been enjoying some of these puzzles!"
   ]
  }
 ],
 "metadata": {
  "kernelspec": {
   "display_name": "Python 3",
   "language": "python",
   "name": "python3"
  },
  "language_info": {
   "codemirror_mode": {
    "name": "ipython",
    "version": 3
   },
   "file_extension": ".py",
   "mimetype": "text/x-python",
   "name": "python",
   "nbconvert_exporter": "python",
   "pygments_lexer": "ipython3",
   "version": "3.6.6"
  },
  "toc": {
   "base_numbering": 1,
   "nav_menu": {},
   "number_sections": true,
   "sideBar": true,
   "skip_h1_title": false,
   "title_cell": "Table of Contents",
   "title_sidebar": "Contents",
   "toc_cell": false,
   "toc_position": {},
   "toc_section_display": true,
   "toc_window_display": false
  }
 },
 "nbformat": 4,
 "nbformat_minor": 2
}
