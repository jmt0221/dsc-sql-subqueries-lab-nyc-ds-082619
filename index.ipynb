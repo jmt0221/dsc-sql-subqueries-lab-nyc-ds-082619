{
 "cells": [
  {
   "cell_type": "markdown",
   "metadata": {},
   "source": [
    "# SQL Subqueries - Lab\n",
    "\n",
    "## Introduction\n",
    "\n",
    "Now that you've seen how subqueries work, it's time to get some practice writing them! Not all of the queries will require subqueries, but all will be a bit more complex and require some thought and review about aggregates, grouping, ordering, filtering, joins and subqueries. Good luck!  \n",
    "\n",
    "## Objectives\n",
    "\n",
    "You will be able to:\n",
    "\n",
    "* Write complex queries\n",
    "* Write subqueries to decompose complex queries\n",
    "\n",
    "## CRM Database Schema\n",
    "\n",
    "Once again, here's the schema for the CRM database you'll continue to practice with.\n",
    "\n",
    "<img src=\"images/Database-Schema.png\" width=\"600\">\n",
    "\n",
    "## Connect to the Database\n",
    "\n",
    "As usual, start by importing the necessary packages and connecting to the database **data.sqlite**."
   ]
  },
  {
   "cell_type": "code",
   "execution_count": 3,
   "metadata": {},
   "outputs": [],
   "source": [
    "#Your code here; import the necessary packages\n",
    "import sqlite3"
   ]
  },
  {
   "cell_type": "code",
   "execution_count": 4,
   "metadata": {},
   "outputs": [],
   "source": [
    "#Your code here; create the connection and cursor\n",
    "conn = sqlite3.connect('data.sqlite')\n",
    "curr = conn.cursor()"
   ]
  },
  {
   "cell_type": "markdown",
   "metadata": {},
   "source": [
    "## Write an Equivalent Query using a Subquery\n",
    "\n",
    "```SQL\n",
    "select customerNumber,\n",
    "       contactLastName,\n",
    "       contactFirstName\n",
    "       from customers\n",
    "       join orders \n",
    "       using(customerNumber)\n",
    "       where orderDate = '2003-01-31';\n",
    "```"
   ]
  },
  {
   "cell_type": "code",
   "execution_count": 3,
   "metadata": {},
   "outputs": [
    {
     "data": {
      "text/plain": [
       "[('103', 'Schmitt', 'Carine '),\n",
       " ('112', 'King', 'Jean'),\n",
       " ('114', 'Ferguson', 'Peter'),\n",
       " ('119', 'Labrune', 'Janine '),\n",
       " ('121', 'Bergulfsen', 'Jonas '),\n",
       " ('124', 'Nelson', 'Susan'),\n",
       " ('125', 'Piestrzeniewicz', 'Zbyszek '),\n",
       " ('128', 'Keitel', 'Roland'),\n",
       " ('129', 'Murphy', 'Julie'),\n",
       " ('131', 'Lee', 'Kwai'),\n",
       " ('141', 'Freyre', 'Diego '),\n",
       " ('144', 'Berglund', 'Christina '),\n",
       " ('145', 'Petersen', 'Jytte '),\n",
       " ('146', 'Saveley', 'Mary '),\n",
       " ('148', 'Natividad', 'Eric'),\n",
       " ('151', 'Young', 'Jeff'),\n",
       " ('157', 'Leong', 'Kelvin'),\n",
       " ('161', 'Hashimoto', 'Juri'),\n",
       " ('166', 'Victorino', 'Wendy'),\n",
       " ('167', 'Oeztan', 'Veysel'),\n",
       " ('168', 'Franco', 'Keith'),\n",
       " ('169', 'de Castro', 'Isabel '),\n",
       " ('171', 'Rancé', 'Martine '),\n",
       " ('172', 'Bertrand', 'Marie'),\n",
       " ('173', 'Tseng', 'Jerry'),\n",
       " ('175', 'King', 'Julie'),\n",
       " ('177', 'Kentary', 'Mory'),\n",
       " ('181', 'Frick', 'Michael'),\n",
       " ('186', 'Karttunen', 'Matti'),\n",
       " ('187', 'Ashworth', 'Rachel'),\n",
       " ('189', 'Cassidy', 'Dean'),\n",
       " ('198', 'Taylor', 'Leslie'),\n",
       " ('201', 'Devon', 'Elizabeth'),\n",
       " ('202', 'Tamuri', 'Yoshi '),\n",
       " ('204', 'Barajas', 'Miguel'),\n",
       " ('205', 'Young', 'Julie'),\n",
       " ('206', 'Walker', 'Brydey'),\n",
       " ('209', 'Citeaux', 'Frédérique '),\n",
       " ('211', 'Gao', 'Mike'),\n",
       " ('216', 'Saavedra', 'Eduardo '),\n",
       " ('219', 'Young', 'Mary'),\n",
       " ('223', 'Kloss', 'Horst '),\n",
       " ('227', 'Ibsen', 'Palle'),\n",
       " ('233', 'Fresnière', 'Jean '),\n",
       " ('237', 'Camino', 'Alejandra '),\n",
       " ('239', 'Thompson', 'Valarie'),\n",
       " ('240', 'Bennett', 'Helen '),\n",
       " ('242', 'Roulet', 'Annette '),\n",
       " ('247', 'Messner', 'Renate '),\n",
       " ('249', 'Accorti', 'Paolo '),\n",
       " ('250', 'Da Silva', 'Daniel'),\n",
       " ('256', 'Tonini', 'Daniel '),\n",
       " ('259', 'Pfalzheim', 'Henriette '),\n",
       " ('260', 'Lincoln', 'Elizabeth '),\n",
       " ('273', 'Franken', 'Peter '),\n",
       " ('276', \"O'Hara\", 'Anna'),\n",
       " ('278', 'Rovelli', 'Giovanni '),\n",
       " ('282', 'Huxley', 'Adrian'),\n",
       " ('286', 'Hernandez', 'Marta'),\n",
       " ('293', 'Harrison', 'Ed'),\n",
       " ('298', 'Holz', 'Mihael'),\n",
       " ('299', 'Klaeboe', 'Jan'),\n",
       " ('303', 'Schuyler', 'Bradley'),\n",
       " ('307', 'Andersen', 'Mel'),\n",
       " ('311', 'Koskitalo', 'Pirkko'),\n",
       " ('314', 'Dewey', 'Catherine '),\n",
       " ('319', 'Frick', 'Steve'),\n",
       " ('320', 'Huang', 'Wing'),\n",
       " ('321', 'Brown', 'Julie'),\n",
       " ('323', 'Graham', 'Mike'),\n",
       " ('324', 'Brown', 'Ann '),\n",
       " ('328', 'Brown', 'William'),\n",
       " ('333', 'Calaghan', 'Ben'),\n",
       " ('334', 'Suominen', 'Kalle'),\n",
       " ('335', 'Cramer', 'Philip '),\n",
       " ('339', 'Cervantes', 'Francisca'),\n",
       " ('344', 'Fernandez', 'Jesus'),\n",
       " ('347', 'Chandler', 'Brian'),\n",
       " ('348', 'McKenna', 'Patricia '),\n",
       " ('350', 'Lebihan', 'Laurence '),\n",
       " ('353', 'Henriot', 'Paul '),\n",
       " ('356', 'Kuger', 'Armand'),\n",
       " ('357', 'MacKinlay', 'Wales'),\n",
       " ('361', 'Josephs', 'Karin'),\n",
       " ('362', 'Yoshido', 'Juri'),\n",
       " ('363', 'Young', 'Dorothy'),\n",
       " ('369', 'Rodriguez', 'Lino '),\n",
       " ('376', 'Urs', 'Braun'),\n",
       " ('379', 'Nelson', 'Allen'),\n",
       " ('381', 'Cartrain', 'Pascale '),\n",
       " ('382', 'Pipps', 'Georg '),\n",
       " ('385', 'Cruz', 'Arnold'),\n",
       " ('386', 'Moroni', 'Maurizio '),\n",
       " ('398', 'Shimamura', 'Akiko'),\n",
       " ('406', 'Perrier', 'Dominique'),\n",
       " ('409', 'Müller', 'Rita '),\n",
       " ('412', 'McRoy', 'Sarah'),\n",
       " ('415', 'Donnermeyer', 'Michael'),\n",
       " ('424', 'Hernandez', 'Maria'),\n",
       " ('443', 'Feuer', 'Alexander '),\n",
       " ('447', 'Lewis', 'Dan'),\n",
       " ('448', 'Larsson', 'Martha'),\n",
       " ('450', 'Frick', 'Sue'),\n",
       " ('452', 'Mendel', 'Roland '),\n",
       " ('455', 'Murphy', 'Leslie'),\n",
       " ('456', 'Choi', 'Yu'),\n",
       " ('458', 'Sommer', 'Martín '),\n",
       " ('459', 'Ottlieb', 'Sven '),\n",
       " ('462', 'Benitez', 'Violeta'),\n",
       " ('465', 'Anton', 'Carmen'),\n",
       " ('471', 'Clenahan', 'Sean'),\n",
       " ('473', 'Ricotti', 'Franco'),\n",
       " ('475', 'Thompson', 'Steve'),\n",
       " ('477', 'Moos', 'Hanna '),\n",
       " ('480', 'Semenov', 'Alexander '),\n",
       " ('481', 'Altagar,G M', 'Raanan'),\n",
       " ('484', 'Roel', 'José Pedro '),\n",
       " ('486', 'Salazar', 'Rosa'),\n",
       " ('487', 'Taylor', 'Sue'),\n",
       " ('489', 'Smith', 'Thomas '),\n",
       " ('495', 'Franco', 'Valarie'),\n",
       " ('496', 'Snowden', 'Tony')]"
      ]
     },
     "execution_count": 3,
     "metadata": {},
     "output_type": "execute_result"
    }
   ],
   "source": [
    "#Your code here; use a subquery. No join will be necessary.\n",
    "curr.execute('''SELECT customernumber, contactlastname, contactfirstname FROM customers WHERE\n",
    "                (SELECT orderdate FROM orders WHERE orderdate = '2003-01-31');''')\n",
    "curr.fetchall()"
   ]
  },
  {
   "cell_type": "markdown",
   "metadata": {},
   "source": [
    "## Select the Total Number of Orders for Each Product Name\n",
    "\n",
    "Sort the results by the total number of items sold for that product."
   ]
  },
  {
   "cell_type": "code",
   "execution_count": 14,
   "metadata": {},
   "outputs": [
    {
     "data": {
      "text/plain": [
       "[('18th Century Vintage Horse Carriage', 907, 28),\n",
       " ('18th century schooner', 1011, 27),\n",
       " ('1900s Vintage Bi-Plane', 940, 28),\n",
       " ('1900s Vintage Tri-Plane', 1009, 28),\n",
       " ('1903 Ford Model A', 883, 27),\n",
       " ('1904 Buick Runabout', 990, 27),\n",
       " ('1911 Ford Town Car', 832, 25),\n",
       " ('1912 Ford Model T Delivery Wagon', 991, 27),\n",
       " ('1913 Ford Model T Speedster', 1038, 28),\n",
       " ('1917 Grand Touring Sedan', 918, 25),\n",
       " ('1917 Maxwell Touring Car', 992, 28),\n",
       " ('1926 Ford Fire Engine', 998, 28),\n",
       " ('1928 British Royal Navy Airplane', 972, 28),\n",
       " ('1928 Ford Phaeton Deluxe', 972, 28),\n",
       " ('1928 Mercedes-Benz SSK', 880, 28),\n",
       " ('1930 Buick Marquette Phaeton', 1074, 28),\n",
       " ('1932 Alfa Romeo 8C2300 Spider Sport', 866, 25),\n",
       " ('1932 Model A Ford J-Coupe', 957, 28),\n",
       " ('1934 Ford V8 Coupe', 985, 28),\n",
       " ('1936 Chrysler Airflow', 983, 28),\n",
       " ('1936 Harley Davidson El Knucklehead', 945, 28),\n",
       " ('1936 Mercedes Benz 500k Roadster', 824, 25),\n",
       " ('1936 Mercedes-Benz 500K Special Roadster', 960, 28),\n",
       " ('1937 Horch 930V Limousine', 884, 28),\n",
       " ('1937 Lincoln Berline', 1111, 28),\n",
       " ('1938 Cadillac V-16 Presidential Limousine', 955, 28),\n",
       " ('1939 Cadillac Limousine', 995, 28),\n",
       " ('1939 Chevrolet Deluxe Coupe', 937, 28),\n",
       " ('1940 Ford Delivery Sedan', 923, 28),\n",
       " ('1940 Ford Pickup Truck', 999, 28),\n",
       " ('1940s Ford truck', 1061, 28),\n",
       " ('1941 Chevrolet Special Deluxe Cabriolet', 1076, 28),\n",
       " ('1948 Porsche 356-A Roadster', 972, 27),\n",
       " ('1948 Porsche Type 356 Roadster', 948, 25),\n",
       " ('1949 Jaguar XK 120', 949, 25),\n",
       " (\"1950's Chicago Surface Lines Streetcar\", 934, 27),\n",
       " ('1952 Alpine Renault 1300', 961, 28),\n",
       " ('1952 Citroen-15CV', 873, 24),\n",
       " ('1954 Greyhound Scenicruiser', 955, 28),\n",
       " ('1956 Porsche 356A Coupe', 1052, 27),\n",
       " ('1957 Chevy Pickup', 1056, 28),\n",
       " ('1957 Corvette Convertible', 1013, 27),\n",
       " ('1957 Ford Thunderbird', 767, 24),\n",
       " ('1957 Vespa GS150', 959, 27),\n",
       " ('1958 Chevy Corvette Limited Edition', 983, 28),\n",
       " ('1958 Setra Bus', 972, 28),\n",
       " ('1960 BSA Gold Star DBD34', 1015, 28),\n",
       " ('1961 Chevrolet Impala', 941, 27),\n",
       " ('1962 City of Detroit Streetcar', 966, 27),\n",
       " ('1962 LanciaA Delta 16V', 932, 28),\n",
       " ('1962 Volkswagen Microbus', 1029, 28),\n",
       " ('1964 Mercedes Tour Bus', 1053, 28),\n",
       " ('1965 Aston Martin DB5', 914, 25),\n",
       " ('1966 Shelby Cobra 427 S/C', 915, 25),\n",
       " ('1968 Dodge Charger', 925, 27),\n",
       " ('1968 Ford Mustang', 933, 27),\n",
       " ('1969 Chevrolet Camaro Z28', 870, 25),\n",
       " ('1969 Corvair Monza', 963, 27),\n",
       " ('1969 Dodge Charger', 992, 27),\n",
       " ('1969 Dodge Super Bee', 974, 27),\n",
       " ('1969 Ford Falcon', 965, 27),\n",
       " ('1969 Harley Davidson Ultimate Chopper', 1057, 28),\n",
       " ('1970 Chevy Chevelle SS 454', 803, 25),\n",
       " ('1970 Dodge Coronet', 976, 28),\n",
       " ('1970 Plymouth Hemi Cuda', 900, 27),\n",
       " ('1970 Triumph Spitfire', 945, 27),\n",
       " ('1971 Alpine Renault 1600s', 969, 27),\n",
       " ('1972 Alfa Romeo GTA', 1030, 28),\n",
       " ('1974 Ducati 350 Mk3 Desmo', 898, 27),\n",
       " ('1976 Ford Gran Torino', 915, 27),\n",
       " ('1980s Black Hawk Helicopter', 1040, 28),\n",
       " ('1980’s GM Manhattan Express', 911, 28),\n",
       " ('1982 Camaro Z28', 997, 28),\n",
       " ('1982 Ducati 900 Monster', 947, 27),\n",
       " ('1982 Ducati 996 R', 906, 27),\n",
       " ('1982 Lamborghini Diablo', 912, 27),\n",
       " ('1992 Ferrari 360 Spider red', 1808, 53),\n",
       " ('1992 Porsche Cayenne Turbo Silver', 867, 27),\n",
       " ('1993 Mazda RX-7', 947, 27),\n",
       " ('1995 Honda Civic', 917, 27),\n",
       " ('1996 Moto Guzzi 1100i', 999, 28),\n",
       " ('1996 Peterbilt 379 Stake Bed with Outrigger', 988, 28),\n",
       " ('1997 BMW F650 ST', 1014, 28),\n",
       " ('1997 BMW R 1100 S', 1033, 28),\n",
       " ('1998 Chrysler Plymouth Prowler', 986, 28),\n",
       " ('1999 Indy 500 Monte Carlo SS', 855, 25),\n",
       " ('1999 Yamaha Speed Boat', 966, 28),\n",
       " ('2001 Ferrari Enzo', 1019, 27),\n",
       " ('2002 Chevy Corvette', 894, 25),\n",
       " ('2002 Suzuki XREO', 1028, 28),\n",
       " ('2002 Yamaha YZR M1', 992, 27),\n",
       " ('2003 Harley-Davidson Eagle Drag Bike', 985, 28),\n",
       " ('ATA: B757-300', 973, 28),\n",
       " ('America West Airlines B757-200', 984, 28),\n",
       " ('American Airlines: B767-300', 894, 28),\n",
       " ('American Airlines: MD-11S', 1085, 28),\n",
       " ('Boeing X-32A JSF', 960, 28),\n",
       " ('Collectable Wooden Train', 918, 27),\n",
       " ('Corsair F4U ( Bird Cage)', 1051, 28),\n",
       " ('Diamond T620 Semi-Skirted Tanker', 979, 28),\n",
       " ('F/A 18 Hornet 1/72', 1047, 28),\n",
       " ('HMS Bounty', 897, 28),\n",
       " ('P-51-D Mustang', 917, 28),\n",
       " ('Pont Yacht', 958, 27),\n",
       " ('The Mayflower', 898, 27),\n",
       " ('The Queen Mary', 896, 27),\n",
       " ('The Schooner Bluenose', 934, 27),\n",
       " ('The Titanic', 952, 27),\n",
       " ('The USS Constitution Ship', 1020, 27)]"
      ]
     },
     "execution_count": 14,
     "metadata": {},
     "output_type": "execute_result"
    }
   ],
   "source": [
    "#Your code here\n",
    "curr.execute('''SELECT productname, SUM(quantityordered), COUNT(ordernumber) FROM products\n",
    "                JOIN orderdetails\n",
    "                USING(productcode)\n",
    "                GROUP BY productname''').fetchall()\n",
    "\n",
    "\n"
   ]
  },
  {
   "cell_type": "markdown",
   "metadata": {},
   "source": [
    "## Select the Product Name and the  Total Number of People Who Have Ordered Each Product\n",
    "\n",
    "Sort the results in descending order."
   ]
  },
  {
   "cell_type": "markdown",
   "metadata": {},
   "source": [
    "### A quick note on the SQL  `SELECT DISTINCT` statement:"
   ]
  },
  {
   "cell_type": "markdown",
   "metadata": {},
   "source": [
    "The `SELECT DISTINCT` statement is used to return only distinct values in the specified column. In other words, it removes the duplicate values in the column from the result set.\n",
    "\n",
    "Inside a table, a column often contains many duplicate values; and sometimes you only want to list the unique values. If you apply the `DISTINCT` clause to a column that has `NULL`, the `DISTINCT` clause will keep only one NULL and eliminates the other. In other words, the DISTINCT clause treats all `NULL` “values” as the same value."
   ]
  },
  {
   "cell_type": "code",
   "execution_count": 9,
   "metadata": {},
   "outputs": [],
   "source": [
    "#Your code here:\n",
    "# Hint: because one of the tables we'll be joining has duplicate customer numbers, you should use DISTINCT"
   ]
  },
  {
   "cell_type": "markdown",
   "metadata": {},
   "source": [
    "## Select the Employee Number, First Name, Last Name, City (of the office), and Office Code of the Employees Who Sold Products Which Have Been Ordered by Less Then 20 people.\n",
    "\n",
    "This problem is a bit tougher. To start, think about how you might break the problem up. Be sure that your results only list each employee once."
   ]
  },
  {
   "cell_type": "code",
   "execution_count": 11,
   "metadata": {},
   "outputs": [],
   "source": [
    "#Your code here"
   ]
  },
  {
   "cell_type": "markdown",
   "metadata": {},
   "source": [
    "## Select the Employee Number, First Name, Last Name, and Number of Customers for Employees Who's Customers Have an Average Credit Limit of Over 15K"
   ]
  },
  {
   "cell_type": "code",
   "execution_count": 13,
   "metadata": {},
   "outputs": [],
   "source": [
    "#Your code here"
   ]
  },
  {
   "cell_type": "markdown",
   "metadata": {},
   "source": [
    "## Summary\n",
    "\n",
    "In this lesson, you got to practice some more complex SQL queries, some of which required subqueries. There's still plenty more SQL to be had though; hope you've been enjoying some of these puzzles!"
   ]
  }
 ],
 "metadata": {
  "kernelspec": {
   "display_name": "Python 3",
   "language": "python",
   "name": "python3"
  },
  "language_info": {
   "codemirror_mode": {
    "name": "ipython",
    "version": 3
   },
   "file_extension": ".py",
   "mimetype": "text/x-python",
   "name": "python",
   "nbconvert_exporter": "python",
   "pygments_lexer": "ipython3",
   "version": "3.6.6"
  },
  "toc": {
   "base_numbering": 1,
   "nav_menu": {},
   "number_sections": true,
   "sideBar": true,
   "skip_h1_title": false,
   "title_cell": "Table of Contents",
   "title_sidebar": "Contents",
   "toc_cell": false,
   "toc_position": {},
   "toc_section_display": true,
   "toc_window_display": false
  }
 },
 "nbformat": 4,
 "nbformat_minor": 2
}
